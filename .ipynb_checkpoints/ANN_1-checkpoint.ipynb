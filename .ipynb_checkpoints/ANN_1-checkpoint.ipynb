{
 "cells": [
  {
   "cell_type": "code",
   "execution_count": 1,
   "metadata": {
    "id": "VaGStgi0QKZ7"
   },
   "outputs": [],
   "source": [
    "import numpy as np\n",
    "import pandas as pd"
   ]
  },
  {
   "cell_type": "code",
   "execution_count": 3,
   "metadata": {
    "colab": {
     "base_uri": "https://localhost:8080/",
     "height": 268
    },
    "id": "vWfDyRiARO_x",
    "outputId": "307c8557-542f-4e30-b674-fa419ec5ffa9"
   },
   "outputs": [
    {
     "data": {
      "text/html": [
       "<div>\n",
       "<style scoped>\n",
       "    .dataframe tbody tr th:only-of-type {\n",
       "        vertical-align: middle;\n",
       "    }\n",
       "\n",
       "    .dataframe tbody tr th {\n",
       "        vertical-align: top;\n",
       "    }\n",
       "\n",
       "    .dataframe thead th {\n",
       "        text-align: right;\n",
       "    }\n",
       "</style>\n",
       "<table border=\"1\" class=\"dataframe\">\n",
       "  <thead>\n",
       "    <tr style=\"text-align: right;\">\n",
       "      <th></th>\n",
       "      <th>RowNumber</th>\n",
       "      <th>CustomerId</th>\n",
       "      <th>Surname</th>\n",
       "      <th>CreditScore</th>\n",
       "      <th>Geography</th>\n",
       "      <th>Gender</th>\n",
       "      <th>Age</th>\n",
       "      <th>Tenure</th>\n",
       "      <th>Balance</th>\n",
       "      <th>NumOfProducts</th>\n",
       "      <th>HasCrCard</th>\n",
       "      <th>IsActiveMember</th>\n",
       "      <th>EstimatedSalary</th>\n",
       "      <th>Exited</th>\n",
       "    </tr>\n",
       "  </thead>\n",
       "  <tbody>\n",
       "    <tr>\n",
       "      <th>0</th>\n",
       "      <td>1</td>\n",
       "      <td>15634602</td>\n",
       "      <td>Hargrave</td>\n",
       "      <td>619</td>\n",
       "      <td>France</td>\n",
       "      <td>Female</td>\n",
       "      <td>42</td>\n",
       "      <td>2</td>\n",
       "      <td>0.00</td>\n",
       "      <td>1</td>\n",
       "      <td>1</td>\n",
       "      <td>1</td>\n",
       "      <td>101348.88</td>\n",
       "      <td>1</td>\n",
       "    </tr>\n",
       "    <tr>\n",
       "      <th>1</th>\n",
       "      <td>2</td>\n",
       "      <td>15647311</td>\n",
       "      <td>Hill</td>\n",
       "      <td>608</td>\n",
       "      <td>Spain</td>\n",
       "      <td>Female</td>\n",
       "      <td>41</td>\n",
       "      <td>1</td>\n",
       "      <td>83807.86</td>\n",
       "      <td>1</td>\n",
       "      <td>0</td>\n",
       "      <td>1</td>\n",
       "      <td>112542.58</td>\n",
       "      <td>0</td>\n",
       "    </tr>\n",
       "    <tr>\n",
       "      <th>2</th>\n",
       "      <td>3</td>\n",
       "      <td>15619304</td>\n",
       "      <td>Onio</td>\n",
       "      <td>502</td>\n",
       "      <td>France</td>\n",
       "      <td>Female</td>\n",
       "      <td>42</td>\n",
       "      <td>8</td>\n",
       "      <td>159660.80</td>\n",
       "      <td>3</td>\n",
       "      <td>1</td>\n",
       "      <td>0</td>\n",
       "      <td>113931.57</td>\n",
       "      <td>1</td>\n",
       "    </tr>\n",
       "    <tr>\n",
       "      <th>3</th>\n",
       "      <td>4</td>\n",
       "      <td>15701354</td>\n",
       "      <td>Boni</td>\n",
       "      <td>699</td>\n",
       "      <td>France</td>\n",
       "      <td>Female</td>\n",
       "      <td>39</td>\n",
       "      <td>1</td>\n",
       "      <td>0.00</td>\n",
       "      <td>2</td>\n",
       "      <td>0</td>\n",
       "      <td>0</td>\n",
       "      <td>93826.63</td>\n",
       "      <td>0</td>\n",
       "    </tr>\n",
       "    <tr>\n",
       "      <th>4</th>\n",
       "      <td>5</td>\n",
       "      <td>15737888</td>\n",
       "      <td>Mitchell</td>\n",
       "      <td>850</td>\n",
       "      <td>Spain</td>\n",
       "      <td>Female</td>\n",
       "      <td>43</td>\n",
       "      <td>2</td>\n",
       "      <td>125510.82</td>\n",
       "      <td>1</td>\n",
       "      <td>1</td>\n",
       "      <td>1</td>\n",
       "      <td>79084.10</td>\n",
       "      <td>0</td>\n",
       "    </tr>\n",
       "  </tbody>\n",
       "</table>\n",
       "</div>"
      ],
      "text/plain": [
       "   RowNumber  CustomerId   Surname  CreditScore Geography  Gender  Age  \\\n",
       "0          1    15634602  Hargrave          619    France  Female   42   \n",
       "1          2    15647311      Hill          608     Spain  Female   41   \n",
       "2          3    15619304      Onio          502    France  Female   42   \n",
       "3          4    15701354      Boni          699    France  Female   39   \n",
       "4          5    15737888  Mitchell          850     Spain  Female   43   \n",
       "\n",
       "   Tenure    Balance  NumOfProducts  HasCrCard  IsActiveMember  \\\n",
       "0       2       0.00              1          1               1   \n",
       "1       1   83807.86              1          0               1   \n",
       "2       8  159660.80              3          1               0   \n",
       "3       1       0.00              2          0               0   \n",
       "4       2  125510.82              1          1               1   \n",
       "\n",
       "   EstimatedSalary  Exited  \n",
       "0        101348.88       1  \n",
       "1        112542.58       0  \n",
       "2        113931.57       1  \n",
       "3         93826.63       0  \n",
       "4         79084.10       0  "
      ]
     },
     "execution_count": 3,
     "metadata": {},
     "output_type": "execute_result"
    }
   ],
   "source": [
    "dataset = pd.read_csv(\"dataset.csv\")\n",
    "dataset.head()"
   ]
  },
  {
   "cell_type": "code",
   "execution_count": null,
   "metadata": {
    "colab": {
     "base_uri": "https://localhost:8080/"
    },
    "id": "BIBys3SESTPA",
    "outputId": "0f1448e8-b1ac-4b3d-bfd3-f804ae4a3503"
   },
   "outputs": [
    {
     "data": {
      "text/plain": [
       "(10000, 14)"
      ]
     },
     "execution_count": 8,
     "metadata": {},
     "output_type": "execute_result"
    }
   ],
   "source": [
    "dataset.shape"
   ]
  },
  {
   "cell_type": "code",
   "execution_count": null,
   "metadata": {
    "id": "eXWLlPRRRmB_"
   },
   "outputs": [],
   "source": [
    "## Preprocesamiento de Datos."
   ]
  },
  {
   "cell_type": "code",
   "execution_count": null,
   "metadata": {
    "id": "o2v8kln1SLbC"
   },
   "outputs": [],
   "source": [
    "dataset = dataset.iloc[:, 3:14]"
   ]
  },
  {
   "cell_type": "code",
   "execution_count": null,
   "metadata": {
    "colab": {
     "base_uri": "https://localhost:8080/"
    },
    "id": "SK0SNivzSbV-",
    "outputId": "e0b1ce19-58e9-4ce3-b04c-8f99ab6f2ce1"
   },
   "outputs": [
    {
     "data": {
      "text/plain": [
       "France     5014\n",
       "Germany    2509\n",
       "Spain      2477\n",
       "Name: Geography, dtype: int64"
      ]
     },
     "execution_count": 11,
     "metadata": {},
     "output_type": "execute_result"
    }
   ],
   "source": [
    "dataset['Geography'].value_counts()"
   ]
  },
  {
   "cell_type": "code",
   "execution_count": null,
   "metadata": {
    "colab": {
     "base_uri": "https://localhost:8080/",
     "height": 204
    },
    "id": "e_x0iQ6XSnwT",
    "outputId": "e2e7f8e7-3d58-4cf7-8329-9e2fcebb1043"
   },
   "outputs": [
    {
     "data": {
      "text/html": [
       "\n",
       "  <div id=\"df-4dabd799-2873-4596-9c70-e39838902902\">\n",
       "    <div class=\"colab-df-container\">\n",
       "      <div>\n",
       "<style scoped>\n",
       "    .dataframe tbody tr th:only-of-type {\n",
       "        vertical-align: middle;\n",
       "    }\n",
       "\n",
       "    .dataframe tbody tr th {\n",
       "        vertical-align: top;\n",
       "    }\n",
       "\n",
       "    .dataframe thead th {\n",
       "        text-align: right;\n",
       "    }\n",
       "</style>\n",
       "<table border=\"1\" class=\"dataframe\">\n",
       "  <thead>\n",
       "    <tr style=\"text-align: right;\">\n",
       "      <th></th>\n",
       "      <th>CreditScore</th>\n",
       "      <th>Gender</th>\n",
       "      <th>Age</th>\n",
       "      <th>Tenure</th>\n",
       "      <th>Balance</th>\n",
       "      <th>NumOfProducts</th>\n",
       "      <th>HasCrCard</th>\n",
       "      <th>IsActiveMember</th>\n",
       "      <th>EstimatedSalary</th>\n",
       "      <th>Exited</th>\n",
       "      <th>Germany</th>\n",
       "      <th>Spain</th>\n",
       "    </tr>\n",
       "  </thead>\n",
       "  <tbody>\n",
       "    <tr>\n",
       "      <th>0</th>\n",
       "      <td>619</td>\n",
       "      <td>Female</td>\n",
       "      <td>42</td>\n",
       "      <td>2</td>\n",
       "      <td>0.00</td>\n",
       "      <td>1</td>\n",
       "      <td>1</td>\n",
       "      <td>1</td>\n",
       "      <td>101348.88</td>\n",
       "      <td>1</td>\n",
       "      <td>0</td>\n",
       "      <td>0</td>\n",
       "    </tr>\n",
       "    <tr>\n",
       "      <th>1</th>\n",
       "      <td>608</td>\n",
       "      <td>Female</td>\n",
       "      <td>41</td>\n",
       "      <td>1</td>\n",
       "      <td>83807.86</td>\n",
       "      <td>1</td>\n",
       "      <td>0</td>\n",
       "      <td>1</td>\n",
       "      <td>112542.58</td>\n",
       "      <td>0</td>\n",
       "      <td>0</td>\n",
       "      <td>1</td>\n",
       "    </tr>\n",
       "    <tr>\n",
       "      <th>2</th>\n",
       "      <td>502</td>\n",
       "      <td>Female</td>\n",
       "      <td>42</td>\n",
       "      <td>8</td>\n",
       "      <td>159660.80</td>\n",
       "      <td>3</td>\n",
       "      <td>1</td>\n",
       "      <td>0</td>\n",
       "      <td>113931.57</td>\n",
       "      <td>1</td>\n",
       "      <td>0</td>\n",
       "      <td>0</td>\n",
       "    </tr>\n",
       "    <tr>\n",
       "      <th>3</th>\n",
       "      <td>699</td>\n",
       "      <td>Female</td>\n",
       "      <td>39</td>\n",
       "      <td>1</td>\n",
       "      <td>0.00</td>\n",
       "      <td>2</td>\n",
       "      <td>0</td>\n",
       "      <td>0</td>\n",
       "      <td>93826.63</td>\n",
       "      <td>0</td>\n",
       "      <td>0</td>\n",
       "      <td>0</td>\n",
       "    </tr>\n",
       "    <tr>\n",
       "      <th>4</th>\n",
       "      <td>850</td>\n",
       "      <td>Female</td>\n",
       "      <td>43</td>\n",
       "      <td>2</td>\n",
       "      <td>125510.82</td>\n",
       "      <td>1</td>\n",
       "      <td>1</td>\n",
       "      <td>1</td>\n",
       "      <td>79084.10</td>\n",
       "      <td>0</td>\n",
       "      <td>0</td>\n",
       "      <td>1</td>\n",
       "    </tr>\n",
       "  </tbody>\n",
       "</table>\n",
       "</div>\n",
       "      <button class=\"colab-df-convert\" onclick=\"convertToInteractive('df-4dabd799-2873-4596-9c70-e39838902902')\"\n",
       "              title=\"Convert this dataframe to an interactive table.\"\n",
       "              style=\"display:none;\">\n",
       "        \n",
       "  <svg xmlns=\"http://www.w3.org/2000/svg\" height=\"24px\"viewBox=\"0 0 24 24\"\n",
       "       width=\"24px\">\n",
       "    <path d=\"M0 0h24v24H0V0z\" fill=\"none\"/>\n",
       "    <path d=\"M18.56 5.44l.94 2.06.94-2.06 2.06-.94-2.06-.94-.94-2.06-.94 2.06-2.06.94zm-11 1L8.5 8.5l.94-2.06 2.06-.94-2.06-.94L8.5 2.5l-.94 2.06-2.06.94zm10 10l.94 2.06.94-2.06 2.06-.94-2.06-.94-.94-2.06-.94 2.06-2.06.94z\"/><path d=\"M17.41 7.96l-1.37-1.37c-.4-.4-.92-.59-1.43-.59-.52 0-1.04.2-1.43.59L10.3 9.45l-7.72 7.72c-.78.78-.78 2.05 0 2.83L4 21.41c.39.39.9.59 1.41.59.51 0 1.02-.2 1.41-.59l7.78-7.78 2.81-2.81c.8-.78.8-2.07 0-2.86zM5.41 20L4 18.59l7.72-7.72 1.47 1.35L5.41 20z\"/>\n",
       "  </svg>\n",
       "      </button>\n",
       "      \n",
       "  <style>\n",
       "    .colab-df-container {\n",
       "      display:flex;\n",
       "      flex-wrap:wrap;\n",
       "      gap: 12px;\n",
       "    }\n",
       "\n",
       "    .colab-df-convert {\n",
       "      background-color: #E8F0FE;\n",
       "      border: none;\n",
       "      border-radius: 50%;\n",
       "      cursor: pointer;\n",
       "      display: none;\n",
       "      fill: #1967D2;\n",
       "      height: 32px;\n",
       "      padding: 0 0 0 0;\n",
       "      width: 32px;\n",
       "    }\n",
       "\n",
       "    .colab-df-convert:hover {\n",
       "      background-color: #E2EBFA;\n",
       "      box-shadow: 0px 1px 2px rgba(60, 64, 67, 0.3), 0px 1px 3px 1px rgba(60, 64, 67, 0.15);\n",
       "      fill: #174EA6;\n",
       "    }\n",
       "\n",
       "    [theme=dark] .colab-df-convert {\n",
       "      background-color: #3B4455;\n",
       "      fill: #D2E3FC;\n",
       "    }\n",
       "\n",
       "    [theme=dark] .colab-df-convert:hover {\n",
       "      background-color: #434B5C;\n",
       "      box-shadow: 0px 1px 3px 1px rgba(0, 0, 0, 0.15);\n",
       "      filter: drop-shadow(0px 1px 2px rgba(0, 0, 0, 0.3));\n",
       "      fill: #FFFFFF;\n",
       "    }\n",
       "  </style>\n",
       "\n",
       "      <script>\n",
       "        const buttonEl =\n",
       "          document.querySelector('#df-4dabd799-2873-4596-9c70-e39838902902 button.colab-df-convert');\n",
       "        buttonEl.style.display =\n",
       "          google.colab.kernel.accessAllowed ? 'block' : 'none';\n",
       "\n",
       "        async function convertToInteractive(key) {\n",
       "          const element = document.querySelector('#df-4dabd799-2873-4596-9c70-e39838902902');\n",
       "          const dataTable =\n",
       "            await google.colab.kernel.invokeFunction('convertToInteractive',\n",
       "                                                     [key], {});\n",
       "          if (!dataTable) return;\n",
       "\n",
       "          const docLinkHtml = 'Like what you see? Visit the ' +\n",
       "            '<a target=\"_blank\" href=https://colab.research.google.com/notebooks/data_table.ipynb>data table notebook</a>'\n",
       "            + ' to learn more about interactive tables.';\n",
       "          element.innerHTML = '';\n",
       "          dataTable['output_type'] = 'display_data';\n",
       "          await google.colab.output.renderOutput(dataTable, element);\n",
       "          const docLink = document.createElement('div');\n",
       "          docLink.innerHTML = docLinkHtml;\n",
       "          element.appendChild(docLink);\n",
       "        }\n",
       "      </script>\n",
       "    </div>\n",
       "  </div>\n",
       "  "
      ],
      "text/plain": [
       "   CreditScore  Gender  Age  Tenure    Balance  NumOfProducts  HasCrCard  \\\n",
       "0          619  Female   42       2       0.00              1          1   \n",
       "1          608  Female   41       1   83807.86              1          0   \n",
       "2          502  Female   42       8  159660.80              3          1   \n",
       "3          699  Female   39       1       0.00              2          0   \n",
       "4          850  Female   43       2  125510.82              1          1   \n",
       "\n",
       "   IsActiveMember  EstimatedSalary  Exited  Germany  Spain  \n",
       "0               1        101348.88       1        0      0  \n",
       "1               1        112542.58       0        0      1  \n",
       "2               0        113931.57       1        0      0  \n",
       "3               0         93826.63       0        0      0  \n",
       "4               1         79084.10       0        0      1  "
      ]
     },
     "execution_count": 13,
     "metadata": {},
     "output_type": "execute_result"
    }
   ],
   "source": [
    "#One Hot Encoding\n",
    "ohe = pd.get_dummies(dataset['Geography'], drop_first=True)\n",
    "dataset.drop('Geography', axis=1, inplace=True)\n",
    "dataset = dataset.join(ohe)\n",
    "dataset.head()"
   ]
  },
  {
   "cell_type": "code",
   "execution_count": null,
   "metadata": {
    "colab": {
     "base_uri": "https://localhost:8080/",
     "height": 204
    },
    "id": "yvK0KZBtTFer",
    "outputId": "e3689d3f-1020-4e58-9f29-8b5b1244cd88"
   },
   "outputs": [
    {
     "data": {
      "text/html": [
       "\n",
       "  <div id=\"df-242fe1b3-ff79-4beb-9fc0-0707cd2f5765\">\n",
       "    <div class=\"colab-df-container\">\n",
       "      <div>\n",
       "<style scoped>\n",
       "    .dataframe tbody tr th:only-of-type {\n",
       "        vertical-align: middle;\n",
       "    }\n",
       "\n",
       "    .dataframe tbody tr th {\n",
       "        vertical-align: top;\n",
       "    }\n",
       "\n",
       "    .dataframe thead th {\n",
       "        text-align: right;\n",
       "    }\n",
       "</style>\n",
       "<table border=\"1\" class=\"dataframe\">\n",
       "  <thead>\n",
       "    <tr style=\"text-align: right;\">\n",
       "      <th></th>\n",
       "      <th>CreditScore</th>\n",
       "      <th>Age</th>\n",
       "      <th>Tenure</th>\n",
       "      <th>Balance</th>\n",
       "      <th>NumOfProducts</th>\n",
       "      <th>HasCrCard</th>\n",
       "      <th>IsActiveMember</th>\n",
       "      <th>EstimatedSalary</th>\n",
       "      <th>Exited</th>\n",
       "      <th>Germany</th>\n",
       "      <th>Spain</th>\n",
       "      <th>Male</th>\n",
       "    </tr>\n",
       "  </thead>\n",
       "  <tbody>\n",
       "    <tr>\n",
       "      <th>0</th>\n",
       "      <td>619</td>\n",
       "      <td>42</td>\n",
       "      <td>2</td>\n",
       "      <td>0.00</td>\n",
       "      <td>1</td>\n",
       "      <td>1</td>\n",
       "      <td>1</td>\n",
       "      <td>101348.88</td>\n",
       "      <td>1</td>\n",
       "      <td>0</td>\n",
       "      <td>0</td>\n",
       "      <td>0</td>\n",
       "    </tr>\n",
       "    <tr>\n",
       "      <th>1</th>\n",
       "      <td>608</td>\n",
       "      <td>41</td>\n",
       "      <td>1</td>\n",
       "      <td>83807.86</td>\n",
       "      <td>1</td>\n",
       "      <td>0</td>\n",
       "      <td>1</td>\n",
       "      <td>112542.58</td>\n",
       "      <td>0</td>\n",
       "      <td>0</td>\n",
       "      <td>1</td>\n",
       "      <td>0</td>\n",
       "    </tr>\n",
       "    <tr>\n",
       "      <th>2</th>\n",
       "      <td>502</td>\n",
       "      <td>42</td>\n",
       "      <td>8</td>\n",
       "      <td>159660.80</td>\n",
       "      <td>3</td>\n",
       "      <td>1</td>\n",
       "      <td>0</td>\n",
       "      <td>113931.57</td>\n",
       "      <td>1</td>\n",
       "      <td>0</td>\n",
       "      <td>0</td>\n",
       "      <td>0</td>\n",
       "    </tr>\n",
       "    <tr>\n",
       "      <th>3</th>\n",
       "      <td>699</td>\n",
       "      <td>39</td>\n",
       "      <td>1</td>\n",
       "      <td>0.00</td>\n",
       "      <td>2</td>\n",
       "      <td>0</td>\n",
       "      <td>0</td>\n",
       "      <td>93826.63</td>\n",
       "      <td>0</td>\n",
       "      <td>0</td>\n",
       "      <td>0</td>\n",
       "      <td>0</td>\n",
       "    </tr>\n",
       "    <tr>\n",
       "      <th>4</th>\n",
       "      <td>850</td>\n",
       "      <td>43</td>\n",
       "      <td>2</td>\n",
       "      <td>125510.82</td>\n",
       "      <td>1</td>\n",
       "      <td>1</td>\n",
       "      <td>1</td>\n",
       "      <td>79084.10</td>\n",
       "      <td>0</td>\n",
       "      <td>0</td>\n",
       "      <td>1</td>\n",
       "      <td>0</td>\n",
       "    </tr>\n",
       "  </tbody>\n",
       "</table>\n",
       "</div>\n",
       "      <button class=\"colab-df-convert\" onclick=\"convertToInteractive('df-242fe1b3-ff79-4beb-9fc0-0707cd2f5765')\"\n",
       "              title=\"Convert this dataframe to an interactive table.\"\n",
       "              style=\"display:none;\">\n",
       "        \n",
       "  <svg xmlns=\"http://www.w3.org/2000/svg\" height=\"24px\"viewBox=\"0 0 24 24\"\n",
       "       width=\"24px\">\n",
       "    <path d=\"M0 0h24v24H0V0z\" fill=\"none\"/>\n",
       "    <path d=\"M18.56 5.44l.94 2.06.94-2.06 2.06-.94-2.06-.94-.94-2.06-.94 2.06-2.06.94zm-11 1L8.5 8.5l.94-2.06 2.06-.94-2.06-.94L8.5 2.5l-.94 2.06-2.06.94zm10 10l.94 2.06.94-2.06 2.06-.94-2.06-.94-.94-2.06-.94 2.06-2.06.94z\"/><path d=\"M17.41 7.96l-1.37-1.37c-.4-.4-.92-.59-1.43-.59-.52 0-1.04.2-1.43.59L10.3 9.45l-7.72 7.72c-.78.78-.78 2.05 0 2.83L4 21.41c.39.39.9.59 1.41.59.51 0 1.02-.2 1.41-.59l7.78-7.78 2.81-2.81c.8-.78.8-2.07 0-2.86zM5.41 20L4 18.59l7.72-7.72 1.47 1.35L5.41 20z\"/>\n",
       "  </svg>\n",
       "      </button>\n",
       "      \n",
       "  <style>\n",
       "    .colab-df-container {\n",
       "      display:flex;\n",
       "      flex-wrap:wrap;\n",
       "      gap: 12px;\n",
       "    }\n",
       "\n",
       "    .colab-df-convert {\n",
       "      background-color: #E8F0FE;\n",
       "      border: none;\n",
       "      border-radius: 50%;\n",
       "      cursor: pointer;\n",
       "      display: none;\n",
       "      fill: #1967D2;\n",
       "      height: 32px;\n",
       "      padding: 0 0 0 0;\n",
       "      width: 32px;\n",
       "    }\n",
       "\n",
       "    .colab-df-convert:hover {\n",
       "      background-color: #E2EBFA;\n",
       "      box-shadow: 0px 1px 2px rgba(60, 64, 67, 0.3), 0px 1px 3px 1px rgba(60, 64, 67, 0.15);\n",
       "      fill: #174EA6;\n",
       "    }\n",
       "\n",
       "    [theme=dark] .colab-df-convert {\n",
       "      background-color: #3B4455;\n",
       "      fill: #D2E3FC;\n",
       "    }\n",
       "\n",
       "    [theme=dark] .colab-df-convert:hover {\n",
       "      background-color: #434B5C;\n",
       "      box-shadow: 0px 1px 3px 1px rgba(0, 0, 0, 0.15);\n",
       "      filter: drop-shadow(0px 1px 2px rgba(0, 0, 0, 0.3));\n",
       "      fill: #FFFFFF;\n",
       "    }\n",
       "  </style>\n",
       "\n",
       "      <script>\n",
       "        const buttonEl =\n",
       "          document.querySelector('#df-242fe1b3-ff79-4beb-9fc0-0707cd2f5765 button.colab-df-convert');\n",
       "        buttonEl.style.display =\n",
       "          google.colab.kernel.accessAllowed ? 'block' : 'none';\n",
       "\n",
       "        async function convertToInteractive(key) {\n",
       "          const element = document.querySelector('#df-242fe1b3-ff79-4beb-9fc0-0707cd2f5765');\n",
       "          const dataTable =\n",
       "            await google.colab.kernel.invokeFunction('convertToInteractive',\n",
       "                                                     [key], {});\n",
       "          if (!dataTable) return;\n",
       "\n",
       "          const docLinkHtml = 'Like what you see? Visit the ' +\n",
       "            '<a target=\"_blank\" href=https://colab.research.google.com/notebooks/data_table.ipynb>data table notebook</a>'\n",
       "            + ' to learn more about interactive tables.';\n",
       "          element.innerHTML = '';\n",
       "          dataTable['output_type'] = 'display_data';\n",
       "          await google.colab.output.renderOutput(dataTable, element);\n",
       "          const docLink = document.createElement('div');\n",
       "          docLink.innerHTML = docLinkHtml;\n",
       "          element.appendChild(docLink);\n",
       "        }\n",
       "      </script>\n",
       "    </div>\n",
       "  </div>\n",
       "  "
      ],
      "text/plain": [
       "   CreditScore  Age  Tenure    Balance  NumOfProducts  HasCrCard  \\\n",
       "0          619   42       2       0.00              1          1   \n",
       "1          608   41       1   83807.86              1          0   \n",
       "2          502   42       8  159660.80              3          1   \n",
       "3          699   39       1       0.00              2          0   \n",
       "4          850   43       2  125510.82              1          1   \n",
       "\n",
       "   IsActiveMember  EstimatedSalary  Exited  Germany  Spain  Male  \n",
       "0               1        101348.88       1        0      0     0  \n",
       "1               1        112542.58       0        0      1     0  \n",
       "2               0        113931.57       1        0      0     0  \n",
       "3               0         93826.63       0        0      0     0  \n",
       "4               1         79084.10       0        0      1     0  "
      ]
     },
     "execution_count": 14,
     "metadata": {},
     "output_type": "execute_result"
    }
   ],
   "source": [
    "ohe = pd.get_dummies(dataset['Gender'], drop_first=True)\n",
    "dataset.drop('Gender', axis=1, inplace=True)\n",
    "dataset = dataset.join(ohe)\n",
    "dataset.head()"
   ]
  },
  {
   "cell_type": "code",
   "execution_count": null,
   "metadata": {
    "colab": {
     "base_uri": "https://localhost:8080/"
    },
    "id": "PehhH3teTxf4",
    "outputId": "ba5cc822-960e-475c-8e7e-60da27abb840"
   },
   "outputs": [
    {
     "data": {
      "text/plain": [
       "False"
      ]
     },
     "execution_count": 16,
     "metadata": {},
     "output_type": "execute_result"
    }
   ],
   "source": [
    "#verificación de NAs\n",
    "dataset.isnull().values.any()"
   ]
  },
  {
   "cell_type": "code",
   "execution_count": null,
   "metadata": {
    "id": "WZ77Qi9CT8fA"
   },
   "outputs": [],
   "source": [
    "X = dataset.iloc[:, dataset.columns != 'Exited']\n",
    "y = dataset.loc[:, 'Exited']"
   ]
  },
  {
   "cell_type": "code",
   "execution_count": null,
   "metadata": {
    "id": "OVpoHtxlUw_L"
   },
   "outputs": [],
   "source": [
    "from sklearn.preprocessing import StandardScaler\n",
    "from sklearn.model_selection import train_test_split"
   ]
  },
  {
   "cell_type": "code",
   "execution_count": null,
   "metadata": {
    "id": "1I3ss6TQU75q"
   },
   "outputs": [],
   "source": [
    "std_scaler = StandardScaler()\n",
    "X = std_scaler.fit_transform(X)"
   ]
  },
  {
   "cell_type": "code",
   "execution_count": null,
   "metadata": {
    "id": "cSU5fl21VIWf"
   },
   "outputs": [],
   "source": [
    "#partición de data para entrenamiento y prueba.\n",
    "X_train, X_test, y_train, y_test = train_test_split(X, y, test_size=0.3, shuffle=True)"
   ]
  },
  {
   "cell_type": "code",
   "execution_count": null,
   "metadata": {
    "colab": {
     "base_uri": "https://localhost:8080/"
    },
    "id": "5PuirHz6gAPx",
    "outputId": "479c12bf-8468-4ee1-8840-d96764693631"
   },
   "outputs": [
    {
     "data": {
      "text/plain": [
       "11"
      ]
     },
     "execution_count": 96,
     "metadata": {},
     "output_type": "execute_result"
    }
   ],
   "source": [
    "X_train.shape[1]"
   ]
  },
  {
   "cell_type": "markdown",
   "metadata": {
    "id": "t6UswusfegT2"
   },
   "source": [
    "**Descripción de Arquitectura de Red con Keras**"
   ]
  },
  {
   "cell_type": "code",
   "execution_count": null,
   "metadata": {
    "id": "FTBvjxpkVJN9"
   },
   "outputs": [],
   "source": [
    "import keras\n",
    "from keras.models import Sequential\n",
    "from keras.layers import Dense"
   ]
  },
  {
   "cell_type": "code",
   "execution_count": null,
   "metadata": {
    "id": "FnUk_dg7edGY"
   },
   "outputs": [],
   "source": [
    "inputs = X_train.shape[1]\n",
    "\n",
    "#base secuencial para definir la estructura de la Red (SIEMPRE INICIAR CON SQUENTIAL)\n",
    "clasificador = Sequential()\n",
    "\n",
    "#primera capa oclta\n",
    "clasificador.add(Dense(input_dim = inputs, units=6, activation='relu', kernel_initializer='uniform'))\n",
    "\n",
    "#segunda capa oculta\n",
    "clasificador.add(Dense(units=6, activation='relu', kernel_initializer='uniform'))\n",
    "\n",
    "#capa de salida\n",
    "clasificador.add(Dense(units=1, activation='sigmoid', kernel_initializer='uniform'))"
   ]
  },
  {
   "cell_type": "code",
   "execution_count": null,
   "metadata": {
    "colab": {
     "base_uri": "https://localhost:8080/"
    },
    "id": "2DGyfCzsiR8U",
    "outputId": "0d639455-bb82-4853-d601-a7debf6049cd"
   },
   "outputs": [
    {
     "name": "stdout",
     "output_type": "stream",
     "text": [
      "Epoch 1/150\n",
      "280/280 [==============================] - 1s 2ms/step - loss: 0.6149 - accuracy: 0.7906\n",
      "Epoch 2/150\n",
      "280/280 [==============================] - 0s 2ms/step - loss: 0.5435 - accuracy: 0.7910\n",
      "Epoch 3/150\n",
      "280/280 [==============================] - 0s 2ms/step - loss: 0.5230 - accuracy: 0.7910\n",
      "Epoch 4/150\n",
      "280/280 [==============================] - 0s 2ms/step - loss: 0.5162 - accuracy: 0.7910\n",
      "Epoch 5/150\n",
      "280/280 [==============================] - 0s 2ms/step - loss: 0.5139 - accuracy: 0.7910\n",
      "Epoch 6/150\n",
      "280/280 [==============================] - 0s 2ms/step - loss: 0.5132 - accuracy: 0.7910\n",
      "Epoch 7/150\n",
      "280/280 [==============================] - 0s 2ms/step - loss: 0.5129 - accuracy: 0.7910\n",
      "Epoch 8/150\n",
      "280/280 [==============================] - 0s 2ms/step - loss: 0.5127 - accuracy: 0.7910\n",
      "Epoch 9/150\n",
      "280/280 [==============================] - 0s 2ms/step - loss: 0.5127 - accuracy: 0.7910\n",
      "Epoch 10/150\n",
      "280/280 [==============================] - 0s 2ms/step - loss: 0.5127 - accuracy: 0.7910\n",
      "Epoch 11/150\n",
      "280/280 [==============================] - 0s 2ms/step - loss: 0.5127 - accuracy: 0.7910\n",
      "Epoch 12/150\n",
      "280/280 [==============================] - 0s 2ms/step - loss: 0.5127 - accuracy: 0.7910\n",
      "Epoch 13/150\n",
      "280/280 [==============================] - 0s 2ms/step - loss: 0.5126 - accuracy: 0.7910\n",
      "Epoch 14/150\n",
      "280/280 [==============================] - 0s 2ms/step - loss: 0.5126 - accuracy: 0.7910\n",
      "Epoch 15/150\n",
      "280/280 [==============================] - 0s 2ms/step - loss: 0.5126 - accuracy: 0.7910\n",
      "Epoch 16/150\n",
      "280/280 [==============================] - 0s 2ms/step - loss: 0.5126 - accuracy: 0.7910\n",
      "Epoch 17/150\n",
      "280/280 [==============================] - 0s 2ms/step - loss: 0.5126 - accuracy: 0.7910\n",
      "Epoch 18/150\n",
      "280/280 [==============================] - 0s 2ms/step - loss: 0.5126 - accuracy: 0.7910\n",
      "Epoch 19/150\n",
      "280/280 [==============================] - 0s 2ms/step - loss: 0.5126 - accuracy: 0.7910\n",
      "Epoch 20/150\n",
      "280/280 [==============================] - 0s 2ms/step - loss: 0.5126 - accuracy: 0.7910\n",
      "Epoch 21/150\n",
      "280/280 [==============================] - 0s 2ms/step - loss: 0.5126 - accuracy: 0.7910\n",
      "Epoch 22/150\n",
      "280/280 [==============================] - 0s 2ms/step - loss: 0.5126 - accuracy: 0.7910\n",
      "Epoch 23/150\n",
      "280/280 [==============================] - 0s 2ms/step - loss: 0.5126 - accuracy: 0.7910\n",
      "Epoch 24/150\n",
      "280/280 [==============================] - 0s 2ms/step - loss: 0.5126 - accuracy: 0.7910\n",
      "Epoch 25/150\n",
      "280/280 [==============================] - 0s 2ms/step - loss: 0.5126 - accuracy: 0.7910\n",
      "Epoch 26/150\n",
      "280/280 [==============================] - 0s 2ms/step - loss: 0.5126 - accuracy: 0.7910\n",
      "Epoch 27/150\n",
      "280/280 [==============================] - 0s 1ms/step - loss: 0.5126 - accuracy: 0.7910\n",
      "Epoch 28/150\n",
      "280/280 [==============================] - 0s 2ms/step - loss: 0.5126 - accuracy: 0.7910\n",
      "Epoch 29/150\n",
      "280/280 [==============================] - 0s 2ms/step - loss: 0.5126 - accuracy: 0.7910\n",
      "Epoch 30/150\n",
      "280/280 [==============================] - 0s 2ms/step - loss: 0.5126 - accuracy: 0.7910\n",
      "Epoch 31/150\n",
      "280/280 [==============================] - 0s 2ms/step - loss: 0.5126 - accuracy: 0.7910\n",
      "Epoch 32/150\n",
      "280/280 [==============================] - 0s 2ms/step - loss: 0.5126 - accuracy: 0.7910\n",
      "Epoch 33/150\n",
      "280/280 [==============================] - 0s 2ms/step - loss: 0.5126 - accuracy: 0.7910\n",
      "Epoch 34/150\n",
      "280/280 [==============================] - 0s 2ms/step - loss: 0.5125 - accuracy: 0.7910\n",
      "Epoch 35/150\n",
      "280/280 [==============================] - 0s 2ms/step - loss: 0.5125 - accuracy: 0.7910\n",
      "Epoch 36/150\n",
      "280/280 [==============================] - 0s 2ms/step - loss: 0.5125 - accuracy: 0.7910\n",
      "Epoch 37/150\n",
      "280/280 [==============================] - 0s 2ms/step - loss: 0.5125 - accuracy: 0.7910\n",
      "Epoch 38/150\n",
      "280/280 [==============================] - 0s 1ms/step - loss: 0.5125 - accuracy: 0.7910\n",
      "Epoch 39/150\n",
      "280/280 [==============================] - 0s 2ms/step - loss: 0.5125 - accuracy: 0.7910\n",
      "Epoch 40/150\n",
      "280/280 [==============================] - 0s 2ms/step - loss: 0.5124 - accuracy: 0.7910\n",
      "Epoch 41/150\n",
      "280/280 [==============================] - 0s 2ms/step - loss: 0.5124 - accuracy: 0.7910\n",
      "Epoch 42/150\n",
      "280/280 [==============================] - 0s 2ms/step - loss: 0.5124 - accuracy: 0.7910\n",
      "Epoch 43/150\n",
      "280/280 [==============================] - 0s 2ms/step - loss: 0.5124 - accuracy: 0.7910\n",
      "Epoch 44/150\n",
      "280/280 [==============================] - 0s 2ms/step - loss: 0.5123 - accuracy: 0.7910\n",
      "Epoch 45/150\n",
      "280/280 [==============================] - 0s 2ms/step - loss: 0.5123 - accuracy: 0.7910\n",
      "Epoch 46/150\n",
      "280/280 [==============================] - 0s 2ms/step - loss: 0.5122 - accuracy: 0.7910\n",
      "Epoch 47/150\n",
      "280/280 [==============================] - 0s 2ms/step - loss: 0.5122 - accuracy: 0.7910\n",
      "Epoch 48/150\n",
      "280/280 [==============================] - 0s 2ms/step - loss: 0.5121 - accuracy: 0.7910\n",
      "Epoch 49/150\n",
      "280/280 [==============================] - 0s 2ms/step - loss: 0.5120 - accuracy: 0.7910\n",
      "Epoch 50/150\n",
      "280/280 [==============================] - 0s 2ms/step - loss: 0.5119 - accuracy: 0.7910\n",
      "Epoch 51/150\n",
      "280/280 [==============================] - 0s 2ms/step - loss: 0.5118 - accuracy: 0.7910\n",
      "Epoch 52/150\n",
      "280/280 [==============================] - 0s 2ms/step - loss: 0.5116 - accuracy: 0.7910\n",
      "Epoch 53/150\n",
      "280/280 [==============================] - 0s 2ms/step - loss: 0.5114 - accuracy: 0.7910\n",
      "Epoch 54/150\n",
      "280/280 [==============================] - 0s 2ms/step - loss: 0.5111 - accuracy: 0.7910\n",
      "Epoch 55/150\n",
      "280/280 [==============================] - 0s 2ms/step - loss: 0.5107 - accuracy: 0.7910\n",
      "Epoch 56/150\n",
      "280/280 [==============================] - 0s 2ms/step - loss: 0.5102 - accuracy: 0.7910\n",
      "Epoch 57/150\n",
      "280/280 [==============================] - 0s 2ms/step - loss: 0.5096 - accuracy: 0.7910\n",
      "Epoch 58/150\n",
      "280/280 [==============================] - 0s 2ms/step - loss: 0.5087 - accuracy: 0.7910\n",
      "Epoch 59/150\n",
      "280/280 [==============================] - 0s 2ms/step - loss: 0.5074 - accuracy: 0.7910\n",
      "Epoch 60/150\n",
      "280/280 [==============================] - 0s 2ms/step - loss: 0.5057 - accuracy: 0.7910\n",
      "Epoch 61/150\n",
      "280/280 [==============================] - 0s 2ms/step - loss: 0.5034 - accuracy: 0.7910\n",
      "Epoch 62/150\n",
      "280/280 [==============================] - 0s 2ms/step - loss: 0.4999 - accuracy: 0.7910\n",
      "Epoch 63/150\n",
      "280/280 [==============================] - 0s 2ms/step - loss: 0.4949 - accuracy: 0.7910\n",
      "Epoch 64/150\n",
      "280/280 [==============================] - 0s 2ms/step - loss: 0.4877 - accuracy: 0.7910\n",
      "Epoch 65/150\n",
      "280/280 [==============================] - 0s 2ms/step - loss: 0.4778 - accuracy: 0.7910\n",
      "Epoch 66/150\n",
      "280/280 [==============================] - 0s 2ms/step - loss: 0.4654 - accuracy: 0.7910\n",
      "Epoch 67/150\n",
      "280/280 [==============================] - 0s 2ms/step - loss: 0.4525 - accuracy: 0.7910\n",
      "Epoch 68/150\n",
      "280/280 [==============================] - 0s 2ms/step - loss: 0.4419 - accuracy: 0.7933\n",
      "Epoch 69/150\n",
      "280/280 [==============================] - 0s 2ms/step - loss: 0.4350 - accuracy: 0.7986\n",
      "Epoch 70/150\n",
      "280/280 [==============================] - 0s 2ms/step - loss: 0.4313 - accuracy: 0.8031\n",
      "Epoch 71/150\n",
      "280/280 [==============================] - 0s 2ms/step - loss: 0.4292 - accuracy: 0.8056\n",
      "Epoch 72/150\n",
      "280/280 [==============================] - 0s 2ms/step - loss: 0.4280 - accuracy: 0.8044\n",
      "Epoch 73/150\n",
      "280/280 [==============================] - 0s 2ms/step - loss: 0.4269 - accuracy: 0.8054\n",
      "Epoch 74/150\n",
      "280/280 [==============================] - 0s 2ms/step - loss: 0.4259 - accuracy: 0.8079\n",
      "Epoch 75/150\n",
      "280/280 [==============================] - 0s 2ms/step - loss: 0.4250 - accuracy: 0.8091\n",
      "Epoch 76/150\n",
      "280/280 [==============================] - 0s 2ms/step - loss: 0.4239 - accuracy: 0.8100\n",
      "Epoch 77/150\n",
      "280/280 [==============================] - 0s 2ms/step - loss: 0.4227 - accuracy: 0.8116\n",
      "Epoch 78/150\n",
      "280/280 [==============================] - 0s 2ms/step - loss: 0.4212 - accuracy: 0.8137\n",
      "Epoch 79/150\n",
      "280/280 [==============================] - 0s 2ms/step - loss: 0.4194 - accuracy: 0.8136\n",
      "Epoch 80/150\n",
      "280/280 [==============================] - 0s 2ms/step - loss: 0.4172 - accuracy: 0.8157\n",
      "Epoch 81/150\n",
      "280/280 [==============================] - 0s 2ms/step - loss: 0.4144 - accuracy: 0.8184\n",
      "Epoch 82/150\n",
      "280/280 [==============================] - 0s 2ms/step - loss: 0.4106 - accuracy: 0.8194\n",
      "Epoch 83/150\n",
      "280/280 [==============================] - 0s 2ms/step - loss: 0.4059 - accuracy: 0.8229\n",
      "Epoch 84/150\n",
      "280/280 [==============================] - 0s 2ms/step - loss: 0.4000 - accuracy: 0.8263\n",
      "Epoch 85/150\n",
      "280/280 [==============================] - 0s 2ms/step - loss: 0.3937 - accuracy: 0.8323\n",
      "Epoch 86/150\n",
      "280/280 [==============================] - 0s 2ms/step - loss: 0.3876 - accuracy: 0.8340\n",
      "Epoch 87/150\n",
      "280/280 [==============================] - 0s 2ms/step - loss: 0.3818 - accuracy: 0.8370\n",
      "Epoch 88/150\n",
      "280/280 [==============================] - 0s 2ms/step - loss: 0.3761 - accuracy: 0.8423\n",
      "Epoch 89/150\n",
      "280/280 [==============================] - 0s 2ms/step - loss: 0.3710 - accuracy: 0.8454\n",
      "Epoch 90/150\n",
      "280/280 [==============================] - 0s 2ms/step - loss: 0.3671 - accuracy: 0.8471\n",
      "Epoch 91/150\n",
      "280/280 [==============================] - 0s 2ms/step - loss: 0.3631 - accuracy: 0.8511\n",
      "Epoch 92/150\n",
      "280/280 [==============================] - 0s 2ms/step - loss: 0.3601 - accuracy: 0.8540\n",
      "Epoch 93/150\n",
      "280/280 [==============================] - 0s 2ms/step - loss: 0.3573 - accuracy: 0.8534\n",
      "Epoch 94/150\n",
      "280/280 [==============================] - 0s 2ms/step - loss: 0.3554 - accuracy: 0.8564\n",
      "Epoch 95/150\n",
      "280/280 [==============================] - 0s 2ms/step - loss: 0.3532 - accuracy: 0.8574\n",
      "Epoch 96/150\n",
      "280/280 [==============================] - 0s 2ms/step - loss: 0.3520 - accuracy: 0.8580\n",
      "Epoch 97/150\n",
      "280/280 [==============================] - 0s 2ms/step - loss: 0.3504 - accuracy: 0.8574\n",
      "Epoch 98/150\n",
      "280/280 [==============================] - 0s 2ms/step - loss: 0.3494 - accuracy: 0.8569\n",
      "Epoch 99/150\n",
      "280/280 [==============================] - 0s 2ms/step - loss: 0.3490 - accuracy: 0.8576\n",
      "Epoch 100/150\n",
      "280/280 [==============================] - 0s 2ms/step - loss: 0.3479 - accuracy: 0.8600\n",
      "Epoch 101/150\n",
      "280/280 [==============================] - 0s 2ms/step - loss: 0.3474 - accuracy: 0.8587\n",
      "Epoch 102/150\n",
      "280/280 [==============================] - 0s 2ms/step - loss: 0.3464 - accuracy: 0.8580\n",
      "Epoch 103/150\n",
      "280/280 [==============================] - 0s 2ms/step - loss: 0.3456 - accuracy: 0.8594\n",
      "Epoch 104/150\n",
      "280/280 [==============================] - 0s 2ms/step - loss: 0.3462 - accuracy: 0.8586\n",
      "Epoch 105/150\n",
      "280/280 [==============================] - 0s 2ms/step - loss: 0.3460 - accuracy: 0.8586\n",
      "Epoch 106/150\n",
      "280/280 [==============================] - 0s 2ms/step - loss: 0.3456 - accuracy: 0.8597\n",
      "Epoch 107/150\n",
      "280/280 [==============================] - 0s 2ms/step - loss: 0.3450 - accuracy: 0.8594\n",
      "Epoch 108/150\n",
      "280/280 [==============================] - 0s 2ms/step - loss: 0.3446 - accuracy: 0.8584\n",
      "Epoch 109/150\n",
      "280/280 [==============================] - 0s 2ms/step - loss: 0.3446 - accuracy: 0.8590\n",
      "Epoch 110/150\n",
      "280/280 [==============================] - 0s 2ms/step - loss: 0.3445 - accuracy: 0.8610\n",
      "Epoch 111/150\n",
      "280/280 [==============================] - 0s 2ms/step - loss: 0.3444 - accuracy: 0.8600\n",
      "Epoch 112/150\n",
      "280/280 [==============================] - 0s 2ms/step - loss: 0.3436 - accuracy: 0.8620\n",
      "Epoch 113/150\n",
      "280/280 [==============================] - 0s 2ms/step - loss: 0.3442 - accuracy: 0.8606\n",
      "Epoch 114/150\n",
      "280/280 [==============================] - 0s 2ms/step - loss: 0.3442 - accuracy: 0.8576\n",
      "Epoch 115/150\n",
      "280/280 [==============================] - 0s 2ms/step - loss: 0.3435 - accuracy: 0.8587\n",
      "Epoch 116/150\n",
      "280/280 [==============================] - 0s 2ms/step - loss: 0.3434 - accuracy: 0.8623\n",
      "Epoch 117/150\n",
      "280/280 [==============================] - 0s 2ms/step - loss: 0.3433 - accuracy: 0.8597\n",
      "Epoch 118/150\n",
      "280/280 [==============================] - 0s 2ms/step - loss: 0.3435 - accuracy: 0.8613\n",
      "Epoch 119/150\n",
      "280/280 [==============================] - 0s 2ms/step - loss: 0.3429 - accuracy: 0.8614\n",
      "Epoch 120/150\n",
      "280/280 [==============================] - 0s 2ms/step - loss: 0.3430 - accuracy: 0.8616\n",
      "Epoch 121/150\n",
      "280/280 [==============================] - 0s 2ms/step - loss: 0.3425 - accuracy: 0.8599\n",
      "Epoch 122/150\n",
      "280/280 [==============================] - 0s 2ms/step - loss: 0.3427 - accuracy: 0.8594\n",
      "Epoch 123/150\n",
      "280/280 [==============================] - 0s 2ms/step - loss: 0.3423 - accuracy: 0.8606\n",
      "Epoch 124/150\n",
      "280/280 [==============================] - 0s 2ms/step - loss: 0.3425 - accuracy: 0.8597\n",
      "Epoch 125/150\n",
      "280/280 [==============================] - 0s 2ms/step - loss: 0.3427 - accuracy: 0.8607\n",
      "Epoch 126/150\n",
      "280/280 [==============================] - 0s 2ms/step - loss: 0.3418 - accuracy: 0.8616\n",
      "Epoch 127/150\n",
      "280/280 [==============================] - 0s 2ms/step - loss: 0.3421 - accuracy: 0.8607\n",
      "Epoch 128/150\n",
      "280/280 [==============================] - 0s 2ms/step - loss: 0.3420 - accuracy: 0.8593\n",
      "Epoch 129/150\n",
      "280/280 [==============================] - 0s 2ms/step - loss: 0.3417 - accuracy: 0.8614\n",
      "Epoch 130/150\n",
      "280/280 [==============================] - 0s 2ms/step - loss: 0.3412 - accuracy: 0.8611\n",
      "Epoch 131/150\n",
      "280/280 [==============================] - 0s 2ms/step - loss: 0.3413 - accuracy: 0.8616\n",
      "Epoch 132/150\n",
      "280/280 [==============================] - 0s 2ms/step - loss: 0.3409 - accuracy: 0.8619\n",
      "Epoch 133/150\n",
      "280/280 [==============================] - 0s 2ms/step - loss: 0.3408 - accuracy: 0.8583\n",
      "Epoch 134/150\n",
      "280/280 [==============================] - 0s 2ms/step - loss: 0.3407 - accuracy: 0.8613\n",
      "Epoch 135/150\n",
      "280/280 [==============================] - 0s 2ms/step - loss: 0.3398 - accuracy: 0.8619\n",
      "Epoch 136/150\n",
      "280/280 [==============================] - 0s 2ms/step - loss: 0.3410 - accuracy: 0.8606\n",
      "Epoch 137/150\n",
      "280/280 [==============================] - 0s 2ms/step - loss: 0.3400 - accuracy: 0.8619\n",
      "Epoch 138/150\n",
      "280/280 [==============================] - 0s 2ms/step - loss: 0.3403 - accuracy: 0.8589\n",
      "Epoch 139/150\n",
      "280/280 [==============================] - 1s 2ms/step - loss: 0.3396 - accuracy: 0.8599\n",
      "Epoch 140/150\n",
      "280/280 [==============================] - 1s 3ms/step - loss: 0.3394 - accuracy: 0.8610\n",
      "Epoch 141/150\n",
      "280/280 [==============================] - 1s 3ms/step - loss: 0.3389 - accuracy: 0.8611\n",
      "Epoch 142/150\n",
      "280/280 [==============================] - 1s 2ms/step - loss: 0.3394 - accuracy: 0.8604\n",
      "Epoch 143/150\n",
      "280/280 [==============================] - 1s 2ms/step - loss: 0.3396 - accuracy: 0.8601\n",
      "Epoch 144/150\n",
      "280/280 [==============================] - 1s 2ms/step - loss: 0.3392 - accuracy: 0.8619\n",
      "Epoch 145/150\n",
      "280/280 [==============================] - 1s 2ms/step - loss: 0.3391 - accuracy: 0.8620\n",
      "Epoch 146/150\n",
      "280/280 [==============================] - 1s 2ms/step - loss: 0.3393 - accuracy: 0.8599\n",
      "Epoch 147/150\n",
      "280/280 [==============================] - 0s 2ms/step - loss: 0.3387 - accuracy: 0.8607\n",
      "Epoch 148/150\n",
      "280/280 [==============================] - 0s 2ms/step - loss: 0.3392 - accuracy: 0.8607\n",
      "Epoch 149/150\n",
      "280/280 [==============================] - 0s 2ms/step - loss: 0.3385 - accuracy: 0.8626\n",
      "Epoch 150/150\n",
      "280/280 [==============================] - 0s 2ms/step - loss: 0.3390 - accuracy: 0.8599\n"
     ]
    },
    {
     "data": {
      "text/plain": [
       "<keras.callbacks.History at 0x7f0a76518810>"
      ]
     },
     "execution_count": 99,
     "metadata": {},
     "output_type": "execute_result"
    }
   ],
   "source": [
    "#parametros de optimización\n",
    "clasificador.compile(optimizer='SGD', loss='binary_crossentropy', metrics=['accuracy'])\n",
    "\n",
    "#parametros de entrenamiento.\n",
    "clasificador.fit(X_train, y_train, batch_size=25, epochs=150)"
   ]
  },
  {
   "cell_type": "code",
   "execution_count": null,
   "metadata": {
    "id": "MUyyug93lDrl"
   },
   "outputs": [],
   "source": [
    "# Guardardamos la red.\n",
    "path = '/content/drive/MyDrive/Statistical Learning II/' \n",
    "clasificador.save(path + '6_6_sig_out.h5')"
   ]
  },
  {
   "cell_type": "code",
   "execution_count": null,
   "metadata": {
    "id": "Nx7-lD1Araz_"
   },
   "outputs": [],
   "source": [
    "# Cargamos la red.\n",
    "new_model = keras.models.load_model(path + '6_6_sig_out.h5')"
   ]
  },
  {
   "cell_type": "code",
   "execution_count": null,
   "metadata": {
    "colab": {
     "base_uri": "https://localhost:8080/"
    },
    "id": "zbdPf3ujrzqY",
    "outputId": "12fd7abe-3686-4534-beb5-0d9e5330130c"
   },
   "outputs": [
    {
     "data": {
      "text/plain": [
       "array([[0.45170203],\n",
       "       [0.46771958],\n",
       "       [0.89969385],\n",
       "       ...,\n",
       "       [0.08741817],\n",
       "       [0.16285628],\n",
       "       [0.26467907]], dtype=float32)"
      ]
     },
     "execution_count": 102,
     "metadata": {},
     "output_type": "execute_result"
    }
   ],
   "source": [
    "#predicciones\n",
    "y_preds = new_model.predict(X_test)\n",
    "y_preds"
   ]
  },
  {
   "cell_type": "code",
   "execution_count": null,
   "metadata": {
    "colab": {
     "base_uri": "https://localhost:8080/"
    },
    "id": "wDK4Rjb8sc_v",
    "outputId": "c787a337-72a8-4d02-f52b-bd194b98d821"
   },
   "outputs": [
    {
     "data": {
      "text/plain": [
       "array([[False],\n",
       "       [False],\n",
       "       [ True],\n",
       "       ...,\n",
       "       [False],\n",
       "       [False],\n",
       "       [False]])"
      ]
     },
     "execution_count": 103,
     "metadata": {},
     "output_type": "execute_result"
    }
   ],
   "source": [
    "y_preds = (y_preds >= 0.5)\n",
    "y_preds"
   ]
  },
  {
   "cell_type": "code",
   "execution_count": null,
   "metadata": {
    "id": "10H9D_j5sc1q"
   },
   "outputs": [],
   "source": [
    "from sklearn.metrics import accuracy_score"
   ]
  },
  {
   "cell_type": "code",
   "execution_count": null,
   "metadata": {
    "colab": {
     "base_uri": "https://localhost:8080/"
    },
    "id": "3apG6aWhtMgp",
    "outputId": "b227ee04-2555-44cb-ede1-ed966470c8fe"
   },
   "outputs": [
    {
     "data": {
      "text/plain": [
       "0.8623333333333333"
      ]
     },
     "execution_count": 105,
     "metadata": {},
     "output_type": "execute_result"
    }
   ],
   "source": [
    "accuracy_score(y_test, y_preds)"
   ]
  },
  {
   "cell_type": "code",
   "execution_count": null,
   "metadata": {
    "id": "INRSWM8_tPwd"
   },
   "outputs": [],
   "source": [
    "#KFolds\n",
    "from keras.wrappers.scikit_learn import KerasClassifier\n",
    "from sklearn.model_selection import cross_val_score\n",
    "from sklearn.model_selection import KFold"
   ]
  },
  {
   "cell_type": "code",
   "execution_count": null,
   "metadata": {
    "id": "5nAGPnAxvOZT"
   },
   "outputs": [],
   "source": [
    "def red_v1():\n",
    "  #base secuencial para definir la estructura de la Red (SIEMPRE INICIAR CON SQUENTIAL)\n",
    "  clasificador = Sequential()\n",
    "\n",
    "  #primera capa oclta\n",
    "  clasificador.add(Dense(input_dim = 11, units=6, activation='relu', kernel_initializer='uniform'))\n",
    "\n",
    "  #segunda capa oculta\n",
    "  clasificador.add(Dense(units=6, activation='relu', kernel_initializer='uniform'))\n",
    "\n",
    "  #capa de salida\n",
    "  clasificador.add(Dense(units=1, activation='sigmoid', kernel_initializer='uniform'))\n",
    "\n",
    "  #parametros de optimización\n",
    "  clasificador.compile(optimizer='SGD', loss='binary_crossentropy', metrics=['accuracy'])\n",
    "\n",
    "  return clasificador"
   ]
  },
  {
   "cell_type": "code",
   "execution_count": null,
   "metadata": {
    "colab": {
     "base_uri": "https://localhost:8080/"
    },
    "id": "hHK9DDxowGPl",
    "outputId": "56df4643-4760-4a1b-ea51-ef5ee1e4f58b"
   },
   "outputs": [
    {
     "name": "stderr",
     "output_type": "stream",
     "text": [
      "/usr/local/lib/python3.7/dist-packages/ipykernel_launcher.py:1: DeprecationWarning: KerasClassifier is deprecated, use Sci-Keras (https://github.com/adriangb/scikeras) instead. See https://www.adriangb.com/scikeras/stable/migration.html for help migrating.\n",
      "  \"\"\"Entry point for launching an IPython kernel.\n"
     ]
    }
   ],
   "source": [
    "clasificador = KerasClassifier(build_fn=red_v1, batch_size=25, nb_epoch=1000)"
   ]
  },
  {
   "cell_type": "code",
   "execution_count": null,
   "metadata": {
    "colab": {
     "base_uri": "https://localhost:8080/"
    },
    "id": "tHPID1C9w4cn",
    "outputId": "089ea28e-dcfa-4879-b5c4-f560dadcbe81"
   },
   "outputs": [
    {
     "name": "stderr",
     "output_type": "stream",
     "text": [
      "[Parallel(n_jobs=-1)]: Using backend LokyBackend with 2 concurrent workers.\n",
      "[Parallel(n_jobs=-1)]: Done  10 out of  10 | elapsed:    8.1s finished\n"
     ]
    }
   ],
   "source": [
    "kfolds = KFold(n_splits=10, shuffle=True)\n",
    "\n",
    "accs = cross_val_score(clasificador, X=X_train, y=y_train, cv=kfolds, verbose=1, n_jobs=-1)"
   ]
  },
  {
   "cell_type": "code",
   "execution_count": null,
   "metadata": {
    "colab": {
     "base_uri": "https://localhost:8080/"
    },
    "id": "d5dslhDrxaqa",
    "outputId": "d34aac0c-1089-49ba-9211-ee27b7475bc8"
   },
   "outputs": [
    {
     "data": {
      "text/plain": [
       "array([0.81999999, 0.77285713, 0.81142855, 0.8142857 , 0.8142857 ,\n",
       "       0.78571427, 0.80714285, 0.77999997, 0.78857142, 0.78571427])"
      ]
     },
     "execution_count": 93,
     "metadata": {},
     "output_type": "execute_result"
    }
   ],
   "source": [
    "accs"
   ]
  },
  {
   "cell_type": "code",
   "execution_count": null,
   "metadata": {
    "colab": {
     "base_uri": "https://localhost:8080/"
    },
    "id": "rEcJpJFUzPuA",
    "outputId": "afee530b-3bc7-4a25-93ad-26adee6771c2"
   },
   "outputs": [
    {
     "data": {
      "text/plain": [
       "0.7979999840259552"
      ]
     },
     "execution_count": 94,
     "metadata": {},
     "output_type": "execute_result"
    }
   ],
   "source": [
    "accs.mean()"
   ]
  },
  {
   "cell_type": "code",
   "execution_count": null,
   "metadata": {
    "id": "xCEDXUsszWE7"
   },
   "outputs": [],
   "source": []
  }
 ],
 "metadata": {
  "colab": {
   "collapsed_sections": [],
   "name": "ANN_1",
   "provenance": []
  },
  "kernelspec": {
   "display_name": "Python 3 (ipykernel)",
   "language": "python",
   "name": "python3"
  },
  "language_info": {
   "codemirror_mode": {
    "name": "ipython",
    "version": 3
   },
   "file_extension": ".py",
   "mimetype": "text/x-python",
   "name": "python",
   "nbconvert_exporter": "python",
   "pygments_lexer": "ipython3",
   "version": "3.9.7"
  }
 },
 "nbformat": 4,
 "nbformat_minor": 4
}
